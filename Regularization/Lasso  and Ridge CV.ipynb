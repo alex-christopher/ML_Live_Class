{
 "cells": [
  {
   "cell_type": "code",
   "execution_count": 1,
   "metadata": {},
   "outputs": [],
   "source": [
    "import pandas as pd\n",
    "import numpy as np\n",
    "import matplotlib.pyplot as plt\n",
    "import seaborn as sns"
   ]
  },
  {
   "cell_type": "code",
   "execution_count": 2,
   "id": "cda0c978",
   "metadata": {},
   "outputs": [
    {
     "data": {
      "text/html": [
       "<div>\n",
       "<style scoped>\n",
       "    .dataframe tbody tr th:only-of-type {\n",
       "        vertical-align: middle;\n",
       "    }\n",
       "\n",
       "    .dataframe tbody tr th {\n",
       "        vertical-align: top;\n",
       "    }\n",
       "\n",
       "    .dataframe thead th {\n",
       "        text-align: right;\n",
       "    }\n",
       "</style>\n",
       "<table border=\"1\" class=\"dataframe\">\n",
       "  <thead>\n",
       "    <tr style=\"text-align: right;\">\n",
       "      <th></th>\n",
       "      <th>TV</th>\n",
       "      <th>Radio</th>\n",
       "      <th>Newspaper</th>\n",
       "      <th>Sales</th>\n",
       "    </tr>\n",
       "  </thead>\n",
       "  <tbody>\n",
       "    <tr>\n",
       "      <th>0</th>\n",
       "      <td>230.1</td>\n",
       "      <td>37.8</td>\n",
       "      <td>69.2</td>\n",
       "      <td>22.1</td>\n",
       "    </tr>\n",
       "    <tr>\n",
       "      <th>1</th>\n",
       "      <td>44.5</td>\n",
       "      <td>39.3</td>\n",
       "      <td>45.1</td>\n",
       "      <td>10.4</td>\n",
       "    </tr>\n",
       "    <tr>\n",
       "      <th>2</th>\n",
       "      <td>17.2</td>\n",
       "      <td>45.9</td>\n",
       "      <td>69.3</td>\n",
       "      <td>12.0</td>\n",
       "    </tr>\n",
       "    <tr>\n",
       "      <th>3</th>\n",
       "      <td>151.5</td>\n",
       "      <td>41.3</td>\n",
       "      <td>58.5</td>\n",
       "      <td>16.5</td>\n",
       "    </tr>\n",
       "    <tr>\n",
       "      <th>4</th>\n",
       "      <td>180.8</td>\n",
       "      <td>10.8</td>\n",
       "      <td>58.4</td>\n",
       "      <td>17.9</td>\n",
       "    </tr>\n",
       "  </tbody>\n",
       "</table>\n",
       "</div>"
      ],
      "text/plain": [
       "      TV  Radio  Newspaper  Sales\n",
       "0  230.1   37.8       69.2   22.1\n",
       "1   44.5   39.3       45.1   10.4\n",
       "2   17.2   45.9       69.3   12.0\n",
       "3  151.5   41.3       58.5   16.5\n",
       "4  180.8   10.8       58.4   17.9"
      ]
     },
     "execution_count": 2,
     "metadata": {},
     "output_type": "execute_result"
    }
   ],
   "source": [
    "df = pd.read_csv(r\"C:\\Users\\Alex Christopher\\OneDrive\\Desktop\\Modular\\ML_Live_Class\\data\\advertising.csv\")\n",
    "df.head()"
   ]
  },
  {
   "cell_type": "code",
   "execution_count": 3,
   "id": "545381f2",
   "metadata": {},
   "outputs": [],
   "source": [
    "X = df.drop(\"Sales\", axis=1)"
   ]
  },
  {
   "cell_type": "code",
   "execution_count": 4,
   "id": "90a65cd8",
   "metadata": {},
   "outputs": [],
   "source": [
    "y = df.Sales"
   ]
  },
  {
   "cell_type": "code",
   "execution_count": 5,
   "id": "4f704ac9",
   "metadata": {},
   "outputs": [],
   "source": [
    "from sklearn.linear_model import LinearRegression"
   ]
  },
  {
   "cell_type": "code",
   "execution_count": 6,
   "id": "f1c6a41e",
   "metadata": {},
   "outputs": [],
   "source": [
    "model1 = LinearRegression()"
   ]
  },
  {
   "cell_type": "code",
   "execution_count": 7,
   "id": "9f3e8a03",
   "metadata": {},
   "outputs": [],
   "source": [
    "from sklearn.model_selection import train_test_split\n",
    "\n",
    "X_train, X_test, y_train, y_test = train_test_split(X, y, test_size=0.33, random_state=101)"
   ]
  },
  {
   "cell_type": "code",
   "execution_count": 8,
   "id": "e432156f",
   "metadata": {},
   "outputs": [],
   "source": [
    "from sklearn.linear_model import RidgeCV"
   ]
  },
  {
   "cell_type": "code",
   "execution_count": 9,
   "id": "41d3911a",
   "metadata": {},
   "outputs": [
    {
     "data": {
      "text/plain": [
       "RidgeCV(alphas=array([ 0.1,  1. , 10. ]), scoring='neg_mean_absolute_error')"
      ]
     },
     "execution_count": 9,
     "metadata": {},
     "output_type": "execute_result"
    }
   ],
   "source": [
    "ridge_cv = RidgeCV(alphas=(0.1, 1.0, 10), scoring=\"neg_mean_absolute_error\")\n",
    "ridge_cv"
   ]
  },
  {
   "cell_type": "code",
   "execution_count": 10,
   "id": "2baa2e44",
   "metadata": {},
   "outputs": [
    {
     "data": {
      "text/plain": [
       "RidgeCV(alphas=array([ 0.1,  1. , 10. ]), scoring='neg_mean_absolute_error')"
      ]
     },
     "execution_count": 10,
     "metadata": {},
     "output_type": "execute_result"
    }
   ],
   "source": [
    "ridge_cv.fit(X_train, y_train)"
   ]
  },
  {
   "cell_type": "code",
   "execution_count": 11,
   "id": "347edb0a",
   "metadata": {},
   "outputs": [
    {
     "data": {
      "text/plain": [
       "0.1"
      ]
     },
     "execution_count": 11,
     "metadata": {},
     "output_type": "execute_result"
    }
   ],
   "source": [
    "ridge_cv.alpha_"
   ]
  },
  {
   "cell_type": "code",
   "execution_count": 12,
   "id": "db82d809",
   "metadata": {},
   "outputs": [],
   "source": [
    "test_predictions = ridge_cv.predict(X_test)"
   ]
  },
  {
   "cell_type": "code",
   "execution_count": 13,
   "id": "5410d8bf",
   "metadata": {},
   "outputs": [],
   "source": [
    "from sklearn.metrics import mean_absolute_error, mean_squared_error"
   ]
  },
  {
   "cell_type": "code",
   "execution_count": 50,
   "id": "85c6cff8",
   "metadata": {},
   "outputs": [
    {
     "data": {
      "text/plain": [
       "(1.4217227416533182, 3.082135078925954, 1.755601059160638)"
      ]
     },
     "execution_count": 50,
     "metadata": {},
     "output_type": "execute_result"
    }
   ],
   "source": [
    "MAE = mean_absolute_error(y_test, test_predictions)\n",
    "MSE = mean_squared_error(y_test, test_predictions)\n",
    "RMSE = np.sqrt(mean_squared_error(y_test, test_predictions))\n",
    "\n",
    "MAE, MSE, RMSE"
   ]
  },
  {
   "cell_type": "code",
   "execution_count": 17,
   "id": "35b6e960",
   "metadata": {},
   "outputs": [],
   "source": [
    "from sklearn.linear_model import Ridge\n",
    "new_ridge = Ridge(alpha=0.1)"
   ]
  },
  {
   "cell_type": "code",
   "execution_count": 18,
   "id": "a3ae94c1",
   "metadata": {},
   "outputs": [
    {
     "data": {
      "text/plain": [
       "Ridge(alpha=0.1)"
      ]
     },
     "execution_count": 18,
     "metadata": {},
     "output_type": "execute_result"
    }
   ],
   "source": [
    "new_ridge.fit(X_train, y_train)"
   ]
  },
  {
   "cell_type": "code",
   "execution_count": 19,
   "id": "66362f2c",
   "metadata": {},
   "outputs": [],
   "source": [
    "new_test_pred = new_ridge.predict(X_test)"
   ]
  },
  {
   "cell_type": "code",
   "execution_count": 20,
   "id": "69b7eccb",
   "metadata": {},
   "outputs": [
    {
     "data": {
      "text/plain": [
       "(1.4217227394630085, 3.0821350830108796, 1.755601060324036)"
      ]
     },
     "execution_count": 20,
     "metadata": {},
     "output_type": "execute_result"
    }
   ],
   "source": [
    "MAE = mean_absolute_error(y_test, new_test_pred)\n",
    "MSE = mean_squared_error(y_test, new_test_pred)\n",
    "RMSE = np.sqrt(mean_squared_error(y_test, new_test_pred))\n",
    "\n",
    "MAE, MSE, RMSE"
   ]
  },
  {
   "cell_type": "code",
   "execution_count": 21,
   "id": "bdceb7c5",
   "metadata": {},
   "outputs": [],
   "source": [
    "from sklearn.linear_model import LassoCV"
   ]
  },
  {
   "cell_type": "code",
   "execution_count": 22,
   "id": "763bc57a",
   "metadata": {},
   "outputs": [],
   "source": [
    "lasso_cv_model = LassoCV(eps=0.001, n_alphas=100, cv=5, max_iter=10000000)"
   ]
  },
  {
   "cell_type": "code",
   "execution_count": 23,
   "id": "88e06785",
   "metadata": {},
   "outputs": [
    {
     "data": {
      "text/plain": [
       "LassoCV(cv=5, max_iter=10000000)"
      ]
     },
     "execution_count": 23,
     "metadata": {},
     "output_type": "execute_result"
    }
   ],
   "source": [
    "lasso_cv_model.fit(X_train, y_train)"
   ]
  },
  {
   "cell_type": "code",
   "execution_count": 24,
   "id": "25cce61c",
   "metadata": {},
   "outputs": [
    {
     "data": {
      "text/plain": [
       "0.3943876732011583"
      ]
     },
     "execution_count": 24,
     "metadata": {},
     "output_type": "execute_result"
    }
   ],
   "source": [
    "lasso_cv_model.alpha_"
   ]
  },
  {
   "cell_type": "code",
   "execution_count": 25,
   "id": "a0dc6913",
   "metadata": {},
   "outputs": [],
   "source": [
    "lasso_cv_test_predictions = lasso_cv_model.predict(X_test)"
   ]
  },
  {
   "cell_type": "code",
   "execution_count": 26,
   "id": "08232e0f",
   "metadata": {},
   "outputs": [
    {
     "data": {
      "text/plain": [
       "(1.416941774813824, 3.049788637149251, 1.7463644056007472)"
      ]
     },
     "execution_count": 26,
     "metadata": {},
     "output_type": "execute_result"
    }
   ],
   "source": [
    "MAE = mean_absolute_error(y_test, lasso_cv_test_predictions)\n",
    "MSE = mean_squared_error(y_test, lasso_cv_test_predictions)\n",
    "RMSE = np.sqrt(mean_squared_error(y_test, lasso_cv_test_predictions))\n",
    "\n",
    "MAE, MSE, RMSE"
   ]
  },
  {
   "cell_type": "code",
   "execution_count": 27,
   "id": "43f28b8c",
   "metadata": {},
   "outputs": [],
   "source": [
    "from sklearn.linear_model import ElasticNetCV"
   ]
  },
  {
   "cell_type": "code",
   "execution_count": 28,
   "id": "6a992ff5",
   "metadata": {},
   "outputs": [],
   "source": [
    "elastic_model = ElasticNetCV(l1_ratio=[.1, .5, .9, .95, .99, 1], eps=0.001, n_alphas=100, max_iter=10000000)"
   ]
  },
  {
   "cell_type": "code",
   "execution_count": 29,
   "id": "d20c078d",
   "metadata": {},
   "outputs": [
    {
     "data": {
      "text/plain": [
       "ElasticNetCV(l1_ratio=[0.1, 0.5, 0.9, 0.95, 0.99, 1], max_iter=10000000)"
      ]
     },
     "execution_count": 29,
     "metadata": {},
     "output_type": "execute_result"
    }
   ],
   "source": [
    "elastic_model.fit(X_train, y_train)"
   ]
  },
  {
   "cell_type": "code",
   "execution_count": 30,
   "id": "9c66624c",
   "metadata": {},
   "outputs": [
    {
     "data": {
      "text/plain": [
       "1.0"
      ]
     },
     "execution_count": 30,
     "metadata": {},
     "output_type": "execute_result"
    }
   ],
   "source": [
    "elastic_model.l1_ratio_"
   ]
  },
  {
   "cell_type": "code",
   "execution_count": 31,
   "id": "8fa7b48f",
   "metadata": {},
   "outputs": [],
   "source": [
    "elastic_test_pred = elastic_model.predict(X_test)"
   ]
  },
  {
   "cell_type": "code",
   "execution_count": 32,
   "id": "fa563844",
   "metadata": {},
   "outputs": [
    {
     "data": {
      "text/plain": [
       "(1.416941774813824, 3.049788637149251, 1.7463644056007472)"
      ]
     },
     "execution_count": 32,
     "metadata": {},
     "output_type": "execute_result"
    }
   ],
   "source": [
    "MAE = mean_absolute_error(y_test, elastic_test_pred)\n",
    "MSE = mean_squared_error(y_test, elastic_test_pred)\n",
    "RMSE = np.sqrt(mean_squared_error(y_test, elastic_test_pred))\n",
    "\n",
    "MAE, MSE, RMSE"
   ]
  },
  {
   "cell_type": "code",
   "execution_count": 33,
   "id": "c4574788",
   "metadata": {},
   "outputs": [],
   "source": [
    "from sklearn.linear_model import ElasticNet\n",
    "\n",
    "elastic_net = ElasticNet(alpha=1, l1_ratio=1.0)\n",
    "\n",
    "elastic_net.fit(X_train, y_train)\n",
    "\n",
    "elastic_net_pred = elastic_net.predict(X_test)"
   ]
  },
  {
   "cell_type": "code",
   "execution_count": 34,
   "id": "c11b84e8",
   "metadata": {},
   "outputs": [
    {
     "data": {
      "text/plain": [
       "(1.4100132941176118, 3.005586298644019, 1.7336626830626594)"
      ]
     },
     "execution_count": 34,
     "metadata": {},
     "output_type": "execute_result"
    }
   ],
   "source": [
    "MAE = mean_absolute_error(y_test, elastic_net_pred)\n",
    "MSE = mean_squared_error(y_test, elastic_net_pred)\n",
    "RMSE = np.sqrt(mean_squared_error(y_test, elastic_net_pred))\n",
    "\n",
    "MAE, MSE, RMSE"
   ]
  },
  {
   "cell_type": "code",
   "execution_count": null,
   "id": "465014e7",
   "metadata": {},
   "outputs": [],
   "source": []
  },
  {
   "cell_type": "code",
   "execution_count": 35,
   "id": "2769c8e3",
   "metadata": {},
   "outputs": [
    {
     "data": {
      "text/html": [
       "<div>\n",
       "<style scoped>\n",
       "    .dataframe tbody tr th:only-of-type {\n",
       "        vertical-align: middle;\n",
       "    }\n",
       "\n",
       "    .dataframe tbody tr th {\n",
       "        vertical-align: top;\n",
       "    }\n",
       "\n",
       "    .dataframe thead th {\n",
       "        text-align: right;\n",
       "    }\n",
       "</style>\n",
       "<table border=\"1\" class=\"dataframe\">\n",
       "  <thead>\n",
       "    <tr style=\"text-align: right;\">\n",
       "      <th></th>\n",
       "      <th>Lasso CV</th>\n",
       "      <th>Elastic CV</th>\n",
       "      <th>Ridge</th>\n",
       "      <th>Ridge CV</th>\n",
       "      <th>Lasso Vs Elastic</th>\n",
       "      <th>Ridge Vs Ridge CV</th>\n",
       "      <th>Elastic Vs Elastic CV</th>\n",
       "    </tr>\n",
       "  </thead>\n",
       "  <tbody>\n",
       "    <tr>\n",
       "      <th>0</th>\n",
       "      <td>13.810538</td>\n",
       "      <td>13.810538</td>\n",
       "      <td>13.847351</td>\n",
       "      <td>13.847351</td>\n",
       "      <td>0.0</td>\n",
       "      <td>-3.144903e-08</td>\n",
       "      <td>-0.056561</td>\n",
       "    </tr>\n",
       "    <tr>\n",
       "      <th>1</th>\n",
       "      <td>21.570973</td>\n",
       "      <td>21.570973</td>\n",
       "      <td>21.620850</td>\n",
       "      <td>21.620850</td>\n",
       "      <td>0.0</td>\n",
       "      <td>4.520881e-08</td>\n",
       "      <td>-0.076598</td>\n",
       "    </tr>\n",
       "    <tr>\n",
       "      <th>2</th>\n",
       "      <td>12.479484</td>\n",
       "      <td>12.479484</td>\n",
       "      <td>12.450647</td>\n",
       "      <td>12.450647</td>\n",
       "      <td>0.0</td>\n",
       "      <td>-1.561775e-08</td>\n",
       "      <td>0.044289</td>\n",
       "    </tr>\n",
       "    <tr>\n",
       "      <th>3</th>\n",
       "      <td>15.511173</td>\n",
       "      <td>15.511173</td>\n",
       "      <td>15.538002</td>\n",
       "      <td>15.538002</td>\n",
       "      <td>0.0</td>\n",
       "      <td>-1.626688e-08</td>\n",
       "      <td>-0.041224</td>\n",
       "    </tr>\n",
       "    <tr>\n",
       "      <th>4</th>\n",
       "      <td>9.099816</td>\n",
       "      <td>9.099816</td>\n",
       "      <td>9.135721</td>\n",
       "      <td>9.135721</td>\n",
       "      <td>0.0</td>\n",
       "      <td>-5.120614e-08</td>\n",
       "      <td>-0.055147</td>\n",
       "    </tr>\n",
       "    <tr>\n",
       "      <th>...</th>\n",
       "      <td>...</td>\n",
       "      <td>...</td>\n",
       "      <td>...</td>\n",
       "      <td>...</td>\n",
       "      <td>...</td>\n",
       "      <td>...</td>\n",
       "      <td>...</td>\n",
       "    </tr>\n",
       "    <tr>\n",
       "      <th>61</th>\n",
       "      <td>24.552560</td>\n",
       "      <td>24.552560</td>\n",
       "      <td>24.548960</td>\n",
       "      <td>24.548959</td>\n",
       "      <td>0.0</td>\n",
       "      <td>6.052981e-08</td>\n",
       "      <td>0.005520</td>\n",
       "    </tr>\n",
       "    <tr>\n",
       "      <th>62</th>\n",
       "      <td>9.034685</td>\n",
       "      <td>9.034685</td>\n",
       "      <td>9.003472</td>\n",
       "      <td>9.003472</td>\n",
       "      <td>0.0</td>\n",
       "      <td>-3.048706e-08</td>\n",
       "      <td>0.047951</td>\n",
       "    </tr>\n",
       "    <tr>\n",
       "      <th>63</th>\n",
       "      <td>19.261264</td>\n",
       "      <td>19.261264</td>\n",
       "      <td>19.278027</td>\n",
       "      <td>19.278027</td>\n",
       "      <td>0.0</td>\n",
       "      <td>1.516323e-08</td>\n",
       "      <td>-0.025760</td>\n",
       "    </tr>\n",
       "    <tr>\n",
       "      <th>64</th>\n",
       "      <td>16.956307</td>\n",
       "      <td>16.956307</td>\n",
       "      <td>16.885947</td>\n",
       "      <td>16.885947</td>\n",
       "      <td>0.0</td>\n",
       "      <td>3.150396e-08</td>\n",
       "      <td>0.108076</td>\n",
       "    </tr>\n",
       "    <tr>\n",
       "      <th>65</th>\n",
       "      <td>21.834708</td>\n",
       "      <td>21.834708</td>\n",
       "      <td>21.812405</td>\n",
       "      <td>21.812405</td>\n",
       "      <td>0.0</td>\n",
       "      <td>4.465560e-08</td>\n",
       "      <td>0.034247</td>\n",
       "    </tr>\n",
       "  </tbody>\n",
       "</table>\n",
       "<p>66 rows × 7 columns</p>\n",
       "</div>"
      ],
      "text/plain": [
       "     Lasso CV  Elastic CV      Ridge   Ridge CV  Lasso Vs Elastic  \\\n",
       "0   13.810538   13.810538  13.847351  13.847351               0.0   \n",
       "1   21.570973   21.570973  21.620850  21.620850               0.0   \n",
       "2   12.479484   12.479484  12.450647  12.450647               0.0   \n",
       "3   15.511173   15.511173  15.538002  15.538002               0.0   \n",
       "4    9.099816    9.099816   9.135721   9.135721               0.0   \n",
       "..        ...         ...        ...        ...               ...   \n",
       "61  24.552560   24.552560  24.548960  24.548959               0.0   \n",
       "62   9.034685    9.034685   9.003472   9.003472               0.0   \n",
       "63  19.261264   19.261264  19.278027  19.278027               0.0   \n",
       "64  16.956307   16.956307  16.885947  16.885947               0.0   \n",
       "65  21.834708   21.834708  21.812405  21.812405               0.0   \n",
       "\n",
       "    Ridge Vs Ridge CV  Elastic Vs Elastic CV  \n",
       "0       -3.144903e-08              -0.056561  \n",
       "1        4.520881e-08              -0.076598  \n",
       "2       -1.561775e-08               0.044289  \n",
       "3       -1.626688e-08              -0.041224  \n",
       "4       -5.120614e-08              -0.055147  \n",
       "..                ...                    ...  \n",
       "61       6.052981e-08               0.005520  \n",
       "62      -3.048706e-08               0.047951  \n",
       "63       1.516323e-08              -0.025760  \n",
       "64       3.150396e-08               0.108076  \n",
       "65       4.465560e-08               0.034247  \n",
       "\n",
       "[66 rows x 7 columns]"
      ]
     },
     "execution_count": 35,
     "metadata": {},
     "output_type": "execute_result"
    }
   ],
   "source": [
    "error = pd.DataFrame({\n",
    "    \"Lasso CV\" : lasso_cv_test_predictions,\n",
    "    \"Elastic CV\" : elastic_test_pred,\n",
    "    \"Ridge\" : new_test_pred,\n",
    "    \"Ridge CV\" : test_predictions,\n",
    "    \"Lasso Vs Elastic\" : lasso_cv_test_predictions - elastic_test_pred,\n",
    "    \"Ridge Vs Ridge CV\" : new_test_pred - test_predictions,\n",
    "    \"Elastic Vs Elastic CV\" : elastic_net_pred - elastic_test_pred \n",
    "})\n",
    "error"
   ]
  },
  {
   "cell_type": "code",
   "execution_count": 36,
   "id": "d654203d",
   "metadata": {},
   "outputs": [],
   "source": [
    "from sklearn.preprocessing import StandardScaler\n",
    "\n",
    "sc = StandardScaler()"
   ]
  },
  {
   "cell_type": "code",
   "execution_count": 37,
   "id": "4057f988",
   "metadata": {},
   "outputs": [],
   "source": [
    "scaled_x = sc.fit_transform(X)"
   ]
  },
  {
   "cell_type": "code",
   "execution_count": 41,
   "id": "1ed45869",
   "metadata": {},
   "outputs": [],
   "source": [
    "X_train, X_test, y_train, y_test = train_test_split(scaled_x, y, test_size=0.33, random_state=101)"
   ]
  },
  {
   "cell_type": "code",
   "execution_count": 44,
   "id": "5fbb3852",
   "metadata": {},
   "outputs": [
    {
     "data": {
      "text/plain": [
       "RidgeCV(alphas=array([ 0.1,  1. , 10. ]), scoring='neg_mean_absolute_error')"
      ]
     },
     "execution_count": 44,
     "metadata": {},
     "output_type": "execute_result"
    }
   ],
   "source": [
    "ridge_cv_scaled = RidgeCV(alphas=(0.1, 1.0, 10), scoring=\"neg_mean_absolute_error\")\n",
    "ridge_cv_scaled"
   ]
  },
  {
   "cell_type": "code",
   "execution_count": 46,
   "id": "0148bc1d",
   "metadata": {},
   "outputs": [
    {
     "data": {
      "text/plain": [
       "RidgeCV(alphas=array([ 0.1,  1. , 10. ]), scoring='neg_mean_absolute_error')"
      ]
     },
     "execution_count": 46,
     "metadata": {},
     "output_type": "execute_result"
    }
   ],
   "source": [
    "ridge_cv_scaled.fit(X_train, y_train)"
   ]
  },
  {
   "cell_type": "code",
   "execution_count": 47,
   "id": "7a6ced7b",
   "metadata": {},
   "outputs": [
    {
     "data": {
      "text/plain": [
       "1.0"
      ]
     },
     "execution_count": 47,
     "metadata": {},
     "output_type": "execute_result"
    }
   ],
   "source": [
    "ridge_cv_scaled.alpha_"
   ]
  },
  {
   "cell_type": "code",
   "execution_count": 51,
   "id": "65c7226a",
   "metadata": {},
   "outputs": [],
   "source": [
    "ridge_scaled_y_pred = ridge_cv_scaled.predict(X_test)"
   ]
  },
  {
   "cell_type": "code",
   "execution_count": 52,
   "id": "9f0fccf4",
   "metadata": {},
   "outputs": [
    {
     "data": {
      "text/plain": [
       "(1.423629399945986, 3.0710978791649475, 1.7524548151564272)"
      ]
     },
     "execution_count": 52,
     "metadata": {},
     "output_type": "execute_result"
    }
   ],
   "source": [
    "MAE = mean_absolute_error(y_test, ridge_scaled_y_pred)\n",
    "MSE = mean_squared_error(y_test, ridge_scaled_y_pred)\n",
    "RMSE = np.sqrt(mean_squared_error(y_test, ridge_scaled_y_pred))\n",
    "\n",
    "MAE, MSE, RMSE"
   ]
  },
  {
   "cell_type": "code",
   "execution_count": 54,
   "id": "27590478",
   "metadata": {},
   "outputs": [],
   "source": [
    "lasso_cv_scaled = LassoCV(eps=0.001, n_alphas=100, cv=5, max_iter=10000000)\n",
    "\n",
    "lasso_cv_scaled.fit(X_train, y_train)\n",
    "\n",
    "lasso_cv_scaled_y_pred = lasso_cv_scaled.predict(X_test)"
   ]
  },
  {
   "cell_type": "code",
   "execution_count": 55,
   "id": "eb3aaa97",
   "metadata": {},
   "outputs": [
    {
     "data": {
      "text/plain": [
       "(1.4205628143646827, 3.0736224206905267, 1.7531749543871902)"
      ]
     },
     "execution_count": 55,
     "metadata": {},
     "output_type": "execute_result"
    }
   ],
   "source": [
    "MAE = mean_absolute_error(y_test, lasso_cv_scaled_y_pred)\n",
    "MSE = mean_squared_error(y_test, lasso_cv_scaled_y_pred)\n",
    "RMSE = np.sqrt(mean_squared_error(y_test, lasso_cv_scaled_y_pred))\n",
    "\n",
    "MAE, MSE, RMSE"
   ]
  },
  {
   "cell_type": "code",
   "execution_count": 60,
   "id": "e9ffe577",
   "metadata": {},
   "outputs": [],
   "source": [
    "from sklearn.linear_model import ElasticNet\n",
    "\n",
    "elastic_net_scaled = ElasticNet(alpha=1, l1_ratio=1.0)\n",
    "\n",
    "elastic_net_scaled.fit(X_train, y_train)\n",
    "\n",
    "elastic_net_scaled_y_pred = elastic_net.predict(X_test)"
   ]
  },
  {
   "cell_type": "code",
   "execution_count": 61,
   "id": "7fb66c2d",
   "metadata": {},
   "outputs": [
    {
     "data": {
      "text/plain": [
       "(1.7333992993117602, 4.989464154419636, 2.2337108484357673)"
      ]
     },
     "execution_count": 61,
     "metadata": {},
     "output_type": "execute_result"
    }
   ],
   "source": [
    "MAE = mean_absolute_error(y_test, elastic_net_scaled_y_pred)\n",
    "MSE = mean_squared_error(y_test, elastic_net_scaled_y_pred)\n",
    "RMSE = np.sqrt(mean_squared_error(y_test, elastic_net_scaled_y_pred))\n",
    "\n",
    "MAE, MSE, RMSE"
   ]
  },
  {
   "cell_type": "code",
   "execution_count": 62,
   "id": "c65b458e",
   "metadata": {},
   "outputs": [],
   "source": [
    "elastic_scaled_model = ElasticNetCV(l1_ratio=[.1, .5, .9, .95, .99, 1], eps=0.001, n_alphas=100, max_iter=10000000)\n",
    "\n",
    "elastic_scaled_model.fit(X_train, y_train)\n",
    "\n",
    "elastic_scaled_model.l1_ratio_\n",
    "\n",
    "elastic_scaled_y_pred = elastic_scaled_model.predict(X_test)"
   ]
  },
  {
   "cell_type": "code",
   "execution_count": 63,
   "id": "bd331927",
   "metadata": {},
   "outputs": [
    {
     "data": {
      "text/plain": [
       "(1.4205628143646827, 3.0736224206905267, 1.7531749543871902)"
      ]
     },
     "execution_count": 63,
     "metadata": {},
     "output_type": "execute_result"
    }
   ],
   "source": [
    "MAE = mean_absolute_error(y_test, elastic_scaled_y_pred)\n",
    "MSE = mean_squared_error(y_test, elastic_scaled_y_pred)\n",
    "RMSE = np.sqrt(mean_squared_error(y_test, elastic_scaled_y_pred))\n",
    "\n",
    "MAE, MSE, RMSE"
   ]
  },
  {
   "cell_type": "code",
   "execution_count": null,
   "id": "c02c397b",
   "metadata": {},
   "outputs": [],
   "source": [
    "(1.4205628143646827, 3.0736224206905267, 1.7531749543871902)"
   ]
  }
 ],
 "metadata": {
  "interpreter": {
   "hash": "1e5d89778a93419aa7c77079c6f9a3d7e1e02cadb8fcefc932fb8b5985477b7b"
  },
  "kernelspec": {
   "display_name": "Python 3.10.0 ('mltest')",
   "language": "python",
   "name": "python3"
  },
  "language_info": {
   "codemirror_mode": {
    "name": "ipython",
    "version": 3
   },
   "file_extension": ".py",
   "mimetype": "text/x-python",
   "name": "python",
   "nbconvert_exporter": "python",
   "pygments_lexer": "ipython3",
   "version": "3.10.0"
  }
 },
 "nbformat": 4,
 "nbformat_minor": 5
}
